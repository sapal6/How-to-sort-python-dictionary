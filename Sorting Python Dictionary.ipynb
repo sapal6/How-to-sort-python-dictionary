{
 "cells": [
  {
   "cell_type": "markdown",
   "metadata": {},
   "source": [
    "### Sort by keys"
   ]
  },
  {
   "cell_type": "code",
   "execution_count": 105,
   "metadata": {},
   "outputs": [
    {
     "name": "stdout",
     "output_type": "stream",
     "text": [
      "{'inky': 1, 'minky': 2, 'ponky': 3}\n"
     ]
    }
   ],
   "source": [
    "unsorted_dictionary = {'inky':1, 'ponky':3, 'minky':2}\n",
    "sorted_dictionary = dict(sorted(unsorted_dictionary.items()))\n",
    "print(sorted_dictionary)"
   ]
  },
  {
   "cell_type": "markdown",
   "metadata": {},
   "source": [
    "### Reverse the sort"
   ]
  },
  {
   "cell_type": "code",
   "execution_count": 106,
   "metadata": {},
   "outputs": [
    {
     "name": "stdout",
     "output_type": "stream",
     "text": [
      "{'ponky': 3, 'minky': 2, 'inky': 1}\n"
     ]
    }
   ],
   "source": [
    "reverse_sorted_dictionary = dict(sorted(sorted_dictionary.items(), reverse = True))\n",
    "print(reverse_sorted_dictionary)"
   ]
  },
  {
   "cell_type": "markdown",
   "metadata": {},
   "source": [
    "### Sort by value"
   ]
  },
  {
   "cell_type": "code",
   "execution_count": 108,
   "metadata": {},
   "outputs": [
    {
     "name": "stdout",
     "output_type": "stream",
     "text": [
      "{'inky': 1, 'minky': 2, 'ponky': 3}\n"
     ]
    }
   ],
   "source": [
    "sorted_dict = dict(zip(sorted(reverse_sorted_dictionary.keys()),sorted(reverse_sorted_dictionary.values())))\n",
    "print(sorted_dict)"
   ]
  },
  {
   "cell_type": "code",
   "execution_count": null,
   "metadata": {
    "collapsed": true
   },
   "outputs": [],
   "source": []
  }
 ],
 "metadata": {
  "kernelspec": {
   "display_name": "Python 3",
   "language": "python",
   "name": "python3"
  },
  "language_info": {
   "codemirror_mode": {
    "name": "ipython",
    "version": 3
   },
   "file_extension": ".py",
   "mimetype": "text/x-python",
   "name": "python",
   "nbconvert_exporter": "python",
   "pygments_lexer": "ipython3",
   "version": "3.6.1"
  }
 },
 "nbformat": 4,
 "nbformat_minor": 2
}
